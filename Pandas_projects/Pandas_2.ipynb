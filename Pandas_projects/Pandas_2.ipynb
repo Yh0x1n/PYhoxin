{
 "cells": [
  {
   "cell_type": "code",
   "execution_count": 6,
   "metadata": {},
   "outputs": [],
   "source": [
    "#Pandas 2: Dataframes\n",
    "import pandas as pd\n",
    "import numpy as np"
   ]
  },
  {
   "cell_type": "code",
   "execution_count": 7,
   "metadata": {},
   "outputs": [],
   "source": [
    "data = {'nombre' : ['Yhoxin', 'Josmer', 'Génesis'],\n",
    "        'carrera' : ['Sistemas', 'Diseño', 'Gastronomía'],\n",
    "        'correo' : ['yhoxin@correo.com', 'josmerfurro@correo.com', 'gini20@correo.com']}"
   ]
  },
  {
   "cell_type": "code",
   "execution_count": 8,
   "metadata": {},
   "outputs": [
    {
     "name": "stdout",
     "output_type": "stream",
     "text": [
      "    nombre      carrera                  correo\n",
      "0   Yhoxin     Sistemas       yhoxin@correo.com\n",
      "1   Josmer       Diseño  josmerfurro@correo.com\n",
      "2  Génesis  Gastronomía       gini20@correo.com\n"
     ]
    }
   ],
   "source": [
    "estudiantes = pd.DataFrame(data)\n",
    "print(estudiantes)"
   ]
  },
  {
   "cell_type": "code",
   "execution_count": 9,
   "metadata": {},
   "outputs": [
    {
     "name": "stdout",
     "output_type": "stream",
     "text": [
      "    Nombre  Edad\n",
      "0   Yhoxin    22\n",
      "1   Josmer    21\n",
      "2  Génesis    21\n"
     ]
    }
   ],
   "source": [
    "df = pd.DataFrame([['Yhoxin', 22], ['Josmer', 21], ['Génesis', 21]],\n",
    "                  columns = ['Nombre', 'Edad'])\n",
    "\n",
    "print(df)"
   ]
  },
  {
   "cell_type": "code",
   "execution_count": 10,
   "metadata": {},
   "outputs": [
    {
     "name": "stdout",
     "output_type": "stream",
     "text": [
      "          a         b         c\n",
      "0 -0.230224  1.095120  0.558397\n",
      "1 -0.093836  0.276701  1.158568\n",
      "2  0.737267 -1.318391 -1.186278\n",
      "3  0.895713 -0.634894  0.988196\n"
     ]
    }
   ],
   "source": [
    "fd = pd.DataFrame(np.random.randn(4, 3), columns = ['a', 'b', 'c'])\n",
    "print (fd)"
   ]
  },
  {
   "cell_type": "code",
   "execution_count": null,
   "metadata": {},
   "outputs": [],
   "source": []
  }
 ],
 "metadata": {
  "language_info": {
   "name": "python"
  }
 },
 "nbformat": 4,
 "nbformat_minor": 2
}
